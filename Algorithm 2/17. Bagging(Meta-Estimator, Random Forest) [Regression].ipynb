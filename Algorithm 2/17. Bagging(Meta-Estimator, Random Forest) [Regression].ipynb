{
 "cells": [
  {
   "cell_type": "markdown",
   "id": "82eca9b7-522c-430c-b48f-b03295bf5cff",
   "metadata": {},
   "source": [
    "# 17. Bagging(Meta-Estimator, Random Forest) [Regression]"
   ]
  },
  {
   "cell_type": "code",
   "execution_count": 1,
   "id": "d8aa7ab9-0008-48e2-a1bd-fca97679857e",
   "metadata": {},
   "outputs": [],
   "source": [
    "import pandas as pd\n",
    "import matplotlib.pyplot as plt\n",
    "import seaborn as sns\n",
    "from mlxtend.plotting import plot_decision_regions\n",
    "import warnings\n",
    "warnings.filterwarnings('ignore')\n",
    "import numpy as np"
   ]
  },
  {
   "cell_type": "code",
   "execution_count": 2,
   "id": "f7fd6776-f721-4d72-9fa3-74668cfbb972",
   "metadata": {},
   "outputs": [
    {
     "data": {
      "text/html": [
       "<div>\n",
       "<style scoped>\n",
       "    .dataframe tbody tr th:only-of-type {\n",
       "        vertical-align: middle;\n",
       "    }\n",
       "\n",
       "    .dataframe tbody tr th {\n",
       "        vertical-align: top;\n",
       "    }\n",
       "\n",
       "    .dataframe thead th {\n",
       "        text-align: right;\n",
       "    }\n",
       "</style>\n",
       "<table border=\"1\" class=\"dataframe\">\n",
       "  <thead>\n",
       "    <tr style=\"text-align: right;\">\n",
       "      <th></th>\n",
       "      <th>cgpa</th>\n",
       "      <th>package</th>\n",
       "    </tr>\n",
       "  </thead>\n",
       "  <tbody>\n",
       "    <tr>\n",
       "      <th>0</th>\n",
       "      <td>6.89</td>\n",
       "      <td>3.26</td>\n",
       "    </tr>\n",
       "    <tr>\n",
       "      <th>1</th>\n",
       "      <td>5.12</td>\n",
       "      <td>1.98</td>\n",
       "    </tr>\n",
       "    <tr>\n",
       "      <th>2</th>\n",
       "      <td>7.82</td>\n",
       "      <td>3.25</td>\n",
       "    </tr>\n",
       "  </tbody>\n",
       "</table>\n",
       "</div>"
      ],
      "text/plain": [
       "   cgpa  package\n",
       "0  6.89     3.26\n",
       "1  5.12     1.98\n",
       "2  7.82     3.25"
      ]
     },
     "execution_count": 2,
     "metadata": {},
     "output_type": "execute_result"
    }
   ],
   "source": [
    "dataset = pd.read_csv(r'D:\\Project Data Set\\CGPA - Package Dataset\\placement.csv')\n",
    "dataset.head(3)"
   ]
  },
  {
   "cell_type": "code",
   "execution_count": 3,
   "id": "ad970340-9dd5-4b0a-a201-61886cf9b315",
   "metadata": {},
   "outputs": [],
   "source": [
    "x = dataset.iloc[:,:-1]\n",
    "y = dataset['package']"
   ]
  },
  {
   "cell_type": "code",
   "execution_count": 4,
   "id": "e5dbc6d7-3e27-4e78-baae-fa8c76657ab4",
   "metadata": {},
   "outputs": [],
   "source": [
    "from sklearn.model_selection import train_test_split\n",
    "x_train,x_test, y_train, y_test = train_test_split(x,y, random_state=42, test_size=0.2)"
   ]
  },
  {
   "cell_type": "code",
   "execution_count": null,
   "id": "99062a68-1046-4d49-aa36-ca5a18e14852",
   "metadata": {},
   "outputs": [],
   "source": []
  },
  {
   "cell_type": "code",
   "execution_count": 7,
   "id": "7280c7ae-6c97-4021-932d-a21906ced20b",
   "metadata": {},
   "outputs": [],
   "source": [
    "from sklearn.ensemble import BaggingRegressor\n",
    "from sklearn.ensemble import RandomForestRegressor\n",
    "from sklearn.linear_model import LinearRegression"
   ]
  },
  {
   "cell_type": "markdown",
   "id": "ce4da774-a8f9-408c-900d-9f2dc7ef3341",
   "metadata": {},
   "source": [
    "## Bagging Regressor"
   ]
  },
  {
   "cell_type": "code",
   "execution_count": 8,
   "id": "2677361a-0620-4ad7-93f2-daf738bd25ed",
   "metadata": {},
   "outputs": [
    {
     "data": {
      "text/plain": [
       "(0.775700979800523, 0.774905907424613)"
      ]
     },
     "execution_count": 8,
     "metadata": {},
     "output_type": "execute_result"
    }
   ],
   "source": [
    "bg = BaggingRegressor(estimator=LinearRegression(), n_estimators=40)\n",
    "bg.fit(x_train,y_train)\n",
    "bg.score(x_train, y_train), bg.score(x_test, y_test)"
   ]
  },
  {
   "cell_type": "markdown",
   "id": "376e83fe-cb43-46c0-a621-00a308b4fa67",
   "metadata": {},
   "source": [
    "## Random Forrest Regressor"
   ]
  },
  {
   "cell_type": "code",
   "execution_count": 11,
   "id": "5a541872-8b86-4149-b9c4-b72e2f940540",
   "metadata": {},
   "outputs": [
    {
     "data": {
      "text/plain": [
       "(0.9108111002402404, 0.6202592047991855)"
      ]
     },
     "execution_count": 11,
     "metadata": {},
     "output_type": "execute_result"
    }
   ],
   "source": [
    "rf = RandomForestRegressor(n_estimators=10)\n",
    "rf.fit(x_train,y_train)\n",
    "rf.score(x_train,y_train), rf.score(x_test, y_test)"
   ]
  },
  {
   "cell_type": "code",
   "execution_count": null,
   "id": "7ce5c6cf-ea6b-475f-b6a7-ab5409ecab59",
   "metadata": {},
   "outputs": [],
   "source": []
  }
 ],
 "metadata": {
  "kernelspec": {
   "display_name": "Python 3 (ipykernel)",
   "language": "python",
   "name": "python3"
  },
  "language_info": {
   "codemirror_mode": {
    "name": "ipython",
    "version": 3
   },
   "file_extension": ".py",
   "mimetype": "text/x-python",
   "name": "python",
   "nbconvert_exporter": "python",
   "pygments_lexer": "ipython3",
   "version": "3.12.7"
  }
 },
 "nbformat": 4,
 "nbformat_minor": 5
}
