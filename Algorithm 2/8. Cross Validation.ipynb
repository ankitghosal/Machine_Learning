{
 "cells": [
  {
   "cell_type": "markdown",
   "id": "1b89d1d6-6a92-4fad-bd10-17d0407040ab",
   "metadata": {},
   "source": [
    "# 8. Cross Validation"
   ]
  },
  {
   "cell_type": "code",
   "execution_count": 1,
   "id": "aa10ac3f-46df-466b-a9ad-06dd03945ac4",
   "metadata": {},
   "outputs": [],
   "source": [
    "import pandas as pd\n",
    "import matplotlib.pyplot as plt\n",
    "import seaborn as sns\n",
    "from mlxtend.plotting import plot_decision_regions"
   ]
  },
  {
   "cell_type": "code",
   "execution_count": 2,
   "id": "24353d34-b915-4f44-af3f-470eedc52aee",
   "metadata": {},
   "outputs": [
    {
     "data": {
      "text/html": [
       "<div>\n",
       "<style scoped>\n",
       "    .dataframe tbody tr th:only-of-type {\n",
       "        vertical-align: middle;\n",
       "    }\n",
       "\n",
       "    .dataframe tbody tr th {\n",
       "        vertical-align: top;\n",
       "    }\n",
       "\n",
       "    .dataframe thead th {\n",
       "        text-align: right;\n",
       "    }\n",
       "</style>\n",
       "<table border=\"1\" class=\"dataframe\">\n",
       "  <thead>\n",
       "    <tr style=\"text-align: right;\">\n",
       "      <th></th>\n",
       "      <th>cgpa</th>\n",
       "      <th>package</th>\n",
       "    </tr>\n",
       "  </thead>\n",
       "  <tbody>\n",
       "    <tr>\n",
       "      <th>0</th>\n",
       "      <td>6.89</td>\n",
       "      <td>3.26</td>\n",
       "    </tr>\n",
       "    <tr>\n",
       "      <th>1</th>\n",
       "      <td>5.12</td>\n",
       "      <td>1.98</td>\n",
       "    </tr>\n",
       "    <tr>\n",
       "      <th>2</th>\n",
       "      <td>7.82</td>\n",
       "      <td>3.25</td>\n",
       "    </tr>\n",
       "  </tbody>\n",
       "</table>\n",
       "</div>"
      ],
      "text/plain": [
       "   cgpa  package\n",
       "0  6.89     3.26\n",
       "1  5.12     1.98\n",
       "2  7.82     3.25"
      ]
     },
     "execution_count": 2,
     "metadata": {},
     "output_type": "execute_result"
    }
   ],
   "source": [
    "dataset = pd.read_csv(r'D:\\Project Data Set\\CGPA - Package Dataset\\placement.csv')\n",
    "dataset.head(3)"
   ]
  },
  {
   "cell_type": "code",
   "execution_count": 19,
   "id": "7b8c753f-6d8b-4806-8b6f-647fdf65c2d5",
   "metadata": {},
   "outputs": [],
   "source": [
    "x = dataset.iloc[:,:-1]\n",
    "y = dataset['package']"
   ]
  },
  {
   "cell_type": "markdown",
   "id": "633bf227-d621-4dbe-b2c7-30d3241ae1c9",
   "metadata": {},
   "source": []
  },
  {
   "cell_type": "code",
   "execution_count": 21,
   "id": "b45a8752-eddd-47ba-ad11-1a37fe8a5fc8",
   "metadata": {},
   "outputs": [],
   "source": [
    "from sklearn.model_selection import cross_val_score"
   ]
  },
  {
   "cell_type": "code",
   "execution_count": null,
   "id": "378676ea-00f8-40b7-9da5-0c60e3975a91",
   "metadata": {},
   "outputs": [],
   "source": []
  },
  {
   "cell_type": "code",
   "execution_count": null,
   "id": "cd278173-bc0d-47d6-8bf5-7fd8764d2404",
   "metadata": {},
   "outputs": [],
   "source": []
  },
  {
   "cell_type": "code",
   "execution_count": null,
   "id": "16a2e878-ed1e-4b43-a694-38b35648a0c5",
   "metadata": {},
   "outputs": [],
   "source": []
  },
  {
   "cell_type": "code",
   "execution_count": null,
   "id": "0657dd9a-006e-47af-b5be-33dcc7517291",
   "metadata": {},
   "outputs": [],
   "source": []
  },
  {
   "cell_type": "code",
   "execution_count": null,
   "id": "94ec0abc-f98a-4d01-bb83-e6d545ba7e3a",
   "metadata": {},
   "outputs": [],
   "source": []
  },
  {
   "cell_type": "code",
   "execution_count": 9,
   "id": "e3f3c940-a20f-4127-9042-48d0deaa9924",
   "metadata": {},
   "outputs": [],
   "source": [
    "# seperating 10 data to use techniques on them only\n",
    "new_data = dataset.head(10)"
   ]
  },
  {
   "cell_type": "code",
   "execution_count": 10,
   "id": "fc010a1b-93dd-49a2-a8a9-5abf5ce54d02",
   "metadata": {},
   "outputs": [],
   "source": [
    "x_new = new_data.iloc[:,:-1]\n",
    "y_new = new_data['package']"
   ]
  },
  {
   "cell_type": "code",
   "execution_count": 23,
   "id": "685a33e3-c89c-4a0a-a7bc-ec3dde4c3591",
   "metadata": {},
   "outputs": [],
   "source": [
    "from sklearn.linear_model import LinearRegression"
   ]
  },
  {
   "cell_type": "code",
   "execution_count": 22,
   "id": "4a0810b6-d5bf-4c0c-b68c-66f26aeccc94",
   "metadata": {},
   "outputs": [],
   "source": [
    "from sklearn.model_selection import LeaveOneOut, LeavePOut, KFold, StratifiedKFold"
   ]
  },
  {
   "cell_type": "code",
   "execution_count": 29,
   "id": "e27721cb-4c71-4d55-95f3-56717c3f927f",
   "metadata": {},
   "outputs": [],
   "source": [
    "p = cross_val_score(LinearRegression(),x,y, cv=KFold(n_splits=10))"
   ]
  },
  {
   "cell_type": "code",
   "execution_count": 30,
   "id": "105b7160-0150-43f8-952d-2679e189b0fa",
   "metadata": {},
   "outputs": [
    {
     "data": {
      "text/plain": [
       "array([60.48000765, 65.67540106, 67.20523867, 69.890411  , 73.50599138,\n",
       "       74.37616704, 80.3181025 , 82.0986355 , 82.64799643, 83.96333567])"
      ]
     },
     "execution_count": 30,
     "metadata": {},
     "output_type": "execute_result"
    }
   ],
   "source": [
    "p.sort()\n",
    "p*100"
   ]
  },
  {
   "cell_type": "code",
   "execution_count": null,
   "id": "9395b2fa-4db4-47b6-a4f4-d36b55683e92",
   "metadata": {},
   "outputs": [],
   "source": []
  },
  {
   "cell_type": "code",
   "execution_count": null,
   "id": "0b6106d9-d158-46de-8260-54856aab70cf",
   "metadata": {},
   "outputs": [],
   "source": []
  },
  {
   "cell_type": "markdown",
   "id": "5daa625c-5994-4ddf-8989-cd8f222dd0f3",
   "metadata": {},
   "source": [
    "## LeaveoneOut"
   ]
  },
  {
   "cell_type": "code",
   "execution_count": 12,
   "id": "7d23b204-3b1c-46eb-88e5-cb332a4d65ca",
   "metadata": {},
   "outputs": [
    {
     "name": "stdout",
     "output_type": "stream",
     "text": [
      "[1 2 3 4 5 6 7 8 9] [0]\n",
      "[0 2 3 4 5 6 7 8 9] [1]\n",
      "[0 1 3 4 5 6 7 8 9] [2]\n",
      "[0 1 2 4 5 6 7 8 9] [3]\n",
      "[0 1 2 3 5 6 7 8 9] [4]\n",
      "[0 1 2 3 4 6 7 8 9] [5]\n",
      "[0 1 2 3 4 5 7 8 9] [6]\n",
      "[0 1 2 3 4 5 6 8 9] [7]\n",
      "[0 1 2 3 4 5 6 7 9] [8]\n",
      "[0 1 2 3 4 5 6 7 8] [9]\n"
     ]
    }
   ],
   "source": [
    "lo = LeaveOneOut()\n",
    "for train, test in lo.split(x_new,y_new):   # used x_new, y_new for simplificationof understanding.\n",
    "    print(train, test)"
   ]
  },
  {
   "cell_type": "markdown",
   "id": "589acfa1-df16-4bc3-8ef5-8181b1d66a33",
   "metadata": {},
   "source": [
    "## LeavePOut"
   ]
  },
  {
   "cell_type": "code",
   "execution_count": 14,
   "id": "1ec9aa3e-083e-4b83-824e-60cf04f57aa8",
   "metadata": {},
   "outputs": [
    {
     "name": "stdout",
     "output_type": "stream",
     "text": [
      "[2 3 4 5 6 7 8 9] [0 1]\n",
      "[1 3 4 5 6 7 8 9] [0 2]\n",
      "[1 2 4 5 6 7 8 9] [0 3]\n",
      "[1 2 3 5 6 7 8 9] [0 4]\n",
      "[1 2 3 4 6 7 8 9] [0 5]\n",
      "[1 2 3 4 5 7 8 9] [0 6]\n",
      "[1 2 3 4 5 6 8 9] [0 7]\n",
      "[1 2 3 4 5 6 7 9] [0 8]\n",
      "[1 2 3 4 5 6 7 8] [0 9]\n",
      "[0 3 4 5 6 7 8 9] [1 2]\n",
      "[0 2 4 5 6 7 8 9] [1 3]\n",
      "[0 2 3 5 6 7 8 9] [1 4]\n",
      "[0 2 3 4 6 7 8 9] [1 5]\n",
      "[0 2 3 4 5 7 8 9] [1 6]\n",
      "[0 2 3 4 5 6 8 9] [1 7]\n",
      "[0 2 3 4 5 6 7 9] [1 8]\n",
      "[0 2 3 4 5 6 7 8] [1 9]\n",
      "[0 1 4 5 6 7 8 9] [2 3]\n",
      "[0 1 3 5 6 7 8 9] [2 4]\n",
      "[0 1 3 4 6 7 8 9] [2 5]\n",
      "[0 1 3 4 5 7 8 9] [2 6]\n",
      "[0 1 3 4 5 6 8 9] [2 7]\n",
      "[0 1 3 4 5 6 7 9] [2 8]\n",
      "[0 1 3 4 5 6 7 8] [2 9]\n",
      "[0 1 2 5 6 7 8 9] [3 4]\n",
      "[0 1 2 4 6 7 8 9] [3 5]\n",
      "[0 1 2 4 5 7 8 9] [3 6]\n",
      "[0 1 2 4 5 6 8 9] [3 7]\n",
      "[0 1 2 4 5 6 7 9] [3 8]\n",
      "[0 1 2 4 5 6 7 8] [3 9]\n",
      "[0 1 2 3 6 7 8 9] [4 5]\n",
      "[0 1 2 3 5 7 8 9] [4 6]\n",
      "[0 1 2 3 5 6 8 9] [4 7]\n",
      "[0 1 2 3 5 6 7 9] [4 8]\n",
      "[0 1 2 3 5 6 7 8] [4 9]\n",
      "[0 1 2 3 4 7 8 9] [5 6]\n",
      "[0 1 2 3 4 6 8 9] [5 7]\n",
      "[0 1 2 3 4 6 7 9] [5 8]\n",
      "[0 1 2 3 4 6 7 8] [5 9]\n",
      "[0 1 2 3 4 5 8 9] [6 7]\n",
      "[0 1 2 3 4 5 7 9] [6 8]\n",
      "[0 1 2 3 4 5 7 8] [6 9]\n",
      "[0 1 2 3 4 5 6 9] [7 8]\n",
      "[0 1 2 3 4 5 6 8] [7 9]\n",
      "[0 1 2 3 4 5 6 7] [8 9]\n"
     ]
    }
   ],
   "source": [
    "lo = LeavePOut(p =2)\n",
    "for train, test in lo.split(x_new, y_new):\n",
    "    print(train, test)"
   ]
  },
  {
   "cell_type": "markdown",
   "id": "a1ab6755-2d92-4a48-b2ef-875d669923eb",
   "metadata": {},
   "source": [
    "## KFold"
   ]
  },
  {
   "cell_type": "code",
   "execution_count": 15,
   "id": "5f115a5d-e0d6-4b43-bad9-2da2d80db380",
   "metadata": {},
   "outputs": [
    {
     "name": "stdout",
     "output_type": "stream",
     "text": [
      "[2 3 4 5 6 7 8 9] [0 1]\n",
      "[0 1 4 5 6 7 8 9] [2 3]\n",
      "[0 1 2 3 6 7 8 9] [4 5]\n",
      "[0 1 2 3 4 5 8 9] [6 7]\n",
      "[0 1 2 3 4 5 6 7] [8 9]\n"
     ]
    }
   ],
   "source": [
    "lo = KFold(n_splits=5)\n",
    "for train, test in lo.split(x_new, y_new):\n",
    "    print(train, test)"
   ]
  },
  {
   "cell_type": "markdown",
   "id": "de898495-942e-49f6-a373-ba950d8f199d",
   "metadata": {},
   "source": [
    "## StratifiedKFold"
   ]
  },
  {
   "cell_type": "code",
   "execution_count": 18,
   "id": "febbd628-5b53-4c69-a17a-c472c7980ab5",
   "metadata": {
    "scrolled": true
   },
   "outputs": [
    {
     "ename": "ValueError",
     "evalue": "Supported target types are: ('binary', 'multiclass'). Got 'continuous' instead.",
     "output_type": "error",
     "traceback": [
      "\u001b[1;31m---------------------------------------------------------------------------\u001b[0m",
      "\u001b[1;31mValueError\u001b[0m                                Traceback (most recent call last)",
      "Cell \u001b[1;32mIn[18], line 2\u001b[0m\n\u001b[0;32m      1\u001b[0m lo \u001b[38;5;241m=\u001b[39m StratifiedKFold(n_splits\u001b[38;5;241m=\u001b[39m\u001b[38;5;241m5\u001b[39m)   \u001b[38;5;66;03m# StratifiedKFold only used for Classification Analysis.\u001b[39;00m\n\u001b[1;32m----> 2\u001b[0m \u001b[38;5;28;01mfor\u001b[39;00m train, test \u001b[38;5;129;01min\u001b[39;00m lo\u001b[38;5;241m.\u001b[39msplit(x_new, y_new):\n\u001b[0;32m      3\u001b[0m     \u001b[38;5;28mprint\u001b[39m(train, test)\n",
      "File \u001b[1;32mC:\\ProgramData\\anaconda3\\Lib\\site-packages\\sklearn\\model_selection\\_split.py:416\u001b[0m, in \u001b[0;36m_BaseKFold.split\u001b[1;34m(self, X, y, groups)\u001b[0m\n\u001b[0;32m    408\u001b[0m \u001b[38;5;28;01mif\u001b[39;00m \u001b[38;5;28mself\u001b[39m\u001b[38;5;241m.\u001b[39mn_splits \u001b[38;5;241m>\u001b[39m n_samples:\n\u001b[0;32m    409\u001b[0m     \u001b[38;5;28;01mraise\u001b[39;00m \u001b[38;5;167;01mValueError\u001b[39;00m(\n\u001b[0;32m    410\u001b[0m         (\n\u001b[0;32m    411\u001b[0m             \u001b[38;5;124m\"\u001b[39m\u001b[38;5;124mCannot have number of splits n_splits=\u001b[39m\u001b[38;5;132;01m{0}\u001b[39;00m\u001b[38;5;124m greater\u001b[39m\u001b[38;5;124m\"\u001b[39m\n\u001b[0;32m    412\u001b[0m             \u001b[38;5;124m\"\u001b[39m\u001b[38;5;124m than the number of samples: n_samples=\u001b[39m\u001b[38;5;132;01m{1}\u001b[39;00m\u001b[38;5;124m.\u001b[39m\u001b[38;5;124m\"\u001b[39m\n\u001b[0;32m    413\u001b[0m         )\u001b[38;5;241m.\u001b[39mformat(\u001b[38;5;28mself\u001b[39m\u001b[38;5;241m.\u001b[39mn_splits, n_samples)\n\u001b[0;32m    414\u001b[0m     )\n\u001b[1;32m--> 416\u001b[0m \u001b[38;5;28;01mfor\u001b[39;00m train, test \u001b[38;5;129;01min\u001b[39;00m \u001b[38;5;28msuper\u001b[39m()\u001b[38;5;241m.\u001b[39msplit(X, y, groups):\n\u001b[0;32m    417\u001b[0m     \u001b[38;5;28;01myield\u001b[39;00m train, test\n",
      "File \u001b[1;32mC:\\ProgramData\\anaconda3\\Lib\\site-packages\\sklearn\\model_selection\\_split.py:147\u001b[0m, in \u001b[0;36mBaseCrossValidator.split\u001b[1;34m(self, X, y, groups)\u001b[0m\n\u001b[0;32m    145\u001b[0m X, y, groups \u001b[38;5;241m=\u001b[39m indexable(X, y, groups)\n\u001b[0;32m    146\u001b[0m indices \u001b[38;5;241m=\u001b[39m np\u001b[38;5;241m.\u001b[39marange(_num_samples(X))\n\u001b[1;32m--> 147\u001b[0m \u001b[38;5;28;01mfor\u001b[39;00m test_index \u001b[38;5;129;01min\u001b[39;00m \u001b[38;5;28mself\u001b[39m\u001b[38;5;241m.\u001b[39m_iter_test_masks(X, y, groups):\n\u001b[0;32m    148\u001b[0m     train_index \u001b[38;5;241m=\u001b[39m indices[np\u001b[38;5;241m.\u001b[39mlogical_not(test_index)]\n\u001b[0;32m    149\u001b[0m     test_index \u001b[38;5;241m=\u001b[39m indices[test_index]\n",
      "File \u001b[1;32mC:\\ProgramData\\anaconda3\\Lib\\site-packages\\sklearn\\model_selection\\_split.py:809\u001b[0m, in \u001b[0;36mStratifiedKFold._iter_test_masks\u001b[1;34m(self, X, y, groups)\u001b[0m\n\u001b[0;32m    808\u001b[0m \u001b[38;5;28;01mdef\u001b[39;00m \u001b[38;5;21m_iter_test_masks\u001b[39m(\u001b[38;5;28mself\u001b[39m, X, y\u001b[38;5;241m=\u001b[39m\u001b[38;5;28;01mNone\u001b[39;00m, groups\u001b[38;5;241m=\u001b[39m\u001b[38;5;28;01mNone\u001b[39;00m):\n\u001b[1;32m--> 809\u001b[0m     test_folds \u001b[38;5;241m=\u001b[39m \u001b[38;5;28mself\u001b[39m\u001b[38;5;241m.\u001b[39m_make_test_folds(X, y)\n\u001b[0;32m    810\u001b[0m     \u001b[38;5;28;01mfor\u001b[39;00m i \u001b[38;5;129;01min\u001b[39;00m \u001b[38;5;28mrange\u001b[39m(\u001b[38;5;28mself\u001b[39m\u001b[38;5;241m.\u001b[39mn_splits):\n\u001b[0;32m    811\u001b[0m         \u001b[38;5;28;01myield\u001b[39;00m test_folds \u001b[38;5;241m==\u001b[39m i\n",
      "File \u001b[1;32mC:\\ProgramData\\anaconda3\\Lib\\site-packages\\sklearn\\model_selection\\_split.py:752\u001b[0m, in \u001b[0;36mStratifiedKFold._make_test_folds\u001b[1;34m(self, X, y)\u001b[0m\n\u001b[0;32m    750\u001b[0m allowed_target_types \u001b[38;5;241m=\u001b[39m (\u001b[38;5;124m\"\u001b[39m\u001b[38;5;124mbinary\u001b[39m\u001b[38;5;124m\"\u001b[39m, \u001b[38;5;124m\"\u001b[39m\u001b[38;5;124mmulticlass\u001b[39m\u001b[38;5;124m\"\u001b[39m)\n\u001b[0;32m    751\u001b[0m \u001b[38;5;28;01mif\u001b[39;00m type_of_target_y \u001b[38;5;129;01mnot\u001b[39;00m \u001b[38;5;129;01min\u001b[39;00m allowed_target_types:\n\u001b[1;32m--> 752\u001b[0m     \u001b[38;5;28;01mraise\u001b[39;00m \u001b[38;5;167;01mValueError\u001b[39;00m(\n\u001b[0;32m    753\u001b[0m         \u001b[38;5;124m\"\u001b[39m\u001b[38;5;124mSupported target types are: \u001b[39m\u001b[38;5;132;01m{}\u001b[39;00m\u001b[38;5;124m. Got \u001b[39m\u001b[38;5;132;01m{!r}\u001b[39;00m\u001b[38;5;124m instead.\u001b[39m\u001b[38;5;124m\"\u001b[39m\u001b[38;5;241m.\u001b[39mformat(\n\u001b[0;32m    754\u001b[0m             allowed_target_types, type_of_target_y\n\u001b[0;32m    755\u001b[0m         )\n\u001b[0;32m    756\u001b[0m     )\n\u001b[0;32m    758\u001b[0m y \u001b[38;5;241m=\u001b[39m column_or_1d(y)\n\u001b[0;32m    760\u001b[0m _, y_idx, y_inv \u001b[38;5;241m=\u001b[39m np\u001b[38;5;241m.\u001b[39munique(y, return_index\u001b[38;5;241m=\u001b[39m\u001b[38;5;28;01mTrue\u001b[39;00m, return_inverse\u001b[38;5;241m=\u001b[39m\u001b[38;5;28;01mTrue\u001b[39;00m)\n",
      "\u001b[1;31mValueError\u001b[0m: Supported target types are: ('binary', 'multiclass'). Got 'continuous' instead."
     ]
    }
   ],
   "source": [
    "lo = StratifiedKFold(n_splits=5)   # StratifiedKFold only used for Classification Analysis.\n",
    "for train, test in lo.split(x_new, y_new):\n",
    "    print(train, test)"
   ]
  },
  {
   "cell_type": "code",
   "execution_count": null,
   "id": "2de9955b-11c9-4a7f-847d-55ada210974b",
   "metadata": {},
   "outputs": [],
   "source": []
  },
  {
   "cell_type": "code",
   "execution_count": null,
   "id": "4fb5e6dc-19af-4b0d-87da-ed6ce2f143b4",
   "metadata": {},
   "outputs": [],
   "source": []
  },
  {
   "cell_type": "code",
   "execution_count": null,
   "id": "a7d526a0-a0a6-421b-bc50-7a4ef48b2e76",
   "metadata": {},
   "outputs": [],
   "source": []
  },
  {
   "cell_type": "code",
   "execution_count": null,
   "id": "cb3851b0-5e99-43bd-9fbc-df175b9dcf43",
   "metadata": {},
   "outputs": [],
   "source": []
  },
  {
   "cell_type": "code",
   "execution_count": null,
   "id": "d0f99247-c894-4f83-8c3e-589797822f6f",
   "metadata": {},
   "outputs": [],
   "source": []
  },
  {
   "cell_type": "code",
   "execution_count": null,
   "id": "d640b24e-19ac-4709-af54-7116515ded79",
   "metadata": {},
   "outputs": [],
   "source": []
  },
  {
   "cell_type": "code",
   "execution_count": null,
   "id": "16e9c4d6-5533-49fd-a2a5-d7d7ec7a2643",
   "metadata": {},
   "outputs": [],
   "source": []
  },
  {
   "cell_type": "code",
   "execution_count": null,
   "id": "5e8bfb6e-0fef-4dac-a368-de115eed2ee9",
   "metadata": {},
   "outputs": [],
   "source": []
  },
  {
   "cell_type": "code",
   "execution_count": null,
   "id": "b5921cfe-3066-45ce-a6d4-56f80ec63f02",
   "metadata": {},
   "outputs": [],
   "source": []
  },
  {
   "cell_type": "code",
   "execution_count": null,
   "id": "21630d1e-6378-49f9-a16e-aa72ecc3f30d",
   "metadata": {},
   "outputs": [],
   "source": []
  },
  {
   "cell_type": "code",
   "execution_count": null,
   "id": "bae74159-9785-470b-9ddd-7b2b4ccabf3d",
   "metadata": {},
   "outputs": [],
   "source": []
  },
  {
   "cell_type": "code",
   "execution_count": null,
   "id": "ed526b56-6af2-4a0b-8190-0bfd2a9255f9",
   "metadata": {},
   "outputs": [],
   "source": []
  },
  {
   "cell_type": "code",
   "execution_count": null,
   "id": "4aff23bc-ed3c-4678-8367-6c54e4bc4e9b",
   "metadata": {},
   "outputs": [],
   "source": []
  }
 ],
 "metadata": {
  "kernelspec": {
   "display_name": "Python 3 (ipykernel)",
   "language": "python",
   "name": "python3"
  },
  "language_info": {
   "codemirror_mode": {
    "name": "ipython",
    "version": 3
   },
   "file_extension": ".py",
   "mimetype": "text/x-python",
   "name": "python",
   "nbconvert_exporter": "python",
   "pygments_lexer": "ipython3",
   "version": "3.12.7"
  }
 },
 "nbformat": 4,
 "nbformat_minor": 5
}
